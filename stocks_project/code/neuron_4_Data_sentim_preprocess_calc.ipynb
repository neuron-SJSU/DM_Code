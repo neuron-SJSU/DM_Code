{
  "nbformat": 4,
  "nbformat_minor": 0,
  "metadata": {
    "colab": {
      "name": "neuron_4_Data_sentim_preprocess_calc.ipynb",
      "version": "0.3.2",
      "provenance": [],
      "collapsed_sections": []
    },
    "kernelspec": {
      "display_name": "Python 3",
      "language": "python",
      "name": "python3"
    }
  },
  "cells": [
    {
      "metadata": {
        "colab_type": "code",
        "id": "mQRaxskrAfN7",
        "outputId": "1dac19a2-98d6-45f6-9543-93cda4d5a059",
        "colab": {
          "base_uri": "https://localhost:8080/",
          "height": 34
        }
      },
      "cell_type": "code",
      "source": [
        "from google.colab import drive\n",
        "drive.mount('/content/drive/')"
      ],
      "execution_count": 16,
      "outputs": [
        {
          "output_type": "stream",
          "text": [
            "Drive already mounted at /content/drive/; to attempt to forcibly remount, call drive.mount(\"/content/drive/\", force_remount=True).\n"
          ],
          "name": "stdout"
        }
      ]
    },
    {
      "metadata": {
        "colab_type": "code",
        "id": "OKlJZ4CPVoha",
        "outputId": "47301db9-73bf-4308-f94b-2da120cf9629",
        "colab": {
          "base_uri": "https://localhost:8080/",
          "height": 86
        }
      },
      "cell_type": "code",
      "source": [
        "!pip install --upgrade tables"
      ],
      "execution_count": 17,
      "outputs": [
        {
          "output_type": "stream",
          "text": [
            "Requirement already up-to-date: tables in /usr/local/lib/python3.6/dist-packages (3.4.4)\n",
            "Requirement already satisfied, skipping upgrade: six>=1.9.0 in /usr/local/lib/python3.6/dist-packages (from tables) (1.11.0)\n",
            "Requirement already satisfied, skipping upgrade: numpy>=1.8.0 in /usr/local/lib/python3.6/dist-packages (from tables) (1.14.6)\n",
            "Requirement already satisfied, skipping upgrade: numexpr>=2.5.2 in /usr/local/lib/python3.6/dist-packages (from tables) (2.6.8)\n"
          ],
          "name": "stdout"
        }
      ]
    },
    {
      "metadata": {
        "colab_type": "code",
        "id": "lBp08uaAVouC",
        "colab": {}
      },
      "cell_type": "code",
      "source": [
        "from nltk.sentiment import SentimentAnalyzer\n",
        "import unicodedata\n",
        "\n"
      ],
      "execution_count": 0,
      "outputs": []
    },
    {
      "metadata": {
        "id": "ed0dj7rmxVMF",
        "colab_type": "code",
        "colab": {}
      },
      "cell_type": "code",
      "source": [
        "import pandas as pd\n",
        "import numpy as np"
      ],
      "execution_count": 0,
      "outputs": []
    },
    {
      "metadata": {
        "id": "6d42X7B2xVMJ",
        "colab_type": "code",
        "colab": {}
      },
      "cell_type": "code",
      "source": [
        "from nltk.sentiment.util import *\n",
        "\n"
      ],
      "execution_count": 0,
      "outputs": []
    },
    {
      "metadata": {
        "id": "mJ_ZtGZhxVMM",
        "colab_type": "code",
        "colab": {}
      },
      "cell_type": "code",
      "source": [
        "from nltk.sentiment.vader import SentimentIntensityAnalyzer"
      ],
      "execution_count": 0,
      "outputs": []
    },
    {
      "metadata": {
        "colab_type": "code",
        "id": "1XBFC0B5Vo2x",
        "colab": {}
      },
      "cell_type": "code",
      "source": [
        "#Path here\n",
        "\n",
        "#Path here\n",
        "\n",
        "base_path = '/content/drive/My Drive/stocks_project/'\n",
        "sp500_path = '/content/drive/My Drive/stocks_project/data/sp/^GSPC.csv'\n",
        "created_data_path = base_path + 'data/created/data500.h5'\n",
        "created_data_path_new = base_path + 'data/created/data50000_new.h5'\n",
        "technical500_path = created_data_path + 'technical5000.h5'\n",
        "news_path = '/content/drive/My Drive/stocks_project/data/news/'"
      ],
      "execution_count": 0,
      "outputs": []
    },
    {
      "metadata": {
        "colab_type": "code",
        "id": "8rwXuOrEVpAe",
        "colab": {}
      },
      "cell_type": "code",
      "source": [
        "\n"
      ],
      "execution_count": 0,
      "outputs": []
    },
    {
      "metadata": {
        "colab_type": "code",
        "id": "cVZrBfGRBCf0",
        "colab": {}
      },
      "cell_type": "code",
      "source": [
        ""
      ],
      "execution_count": 0,
      "outputs": []
    },
    {
      "metadata": {
        "colab_type": "code",
        "id": "SXVBiXuYBTpw",
        "colab": {}
      },
      "cell_type": "code",
      "source": [
        "\n",
        "import pandas as pd\n",
        "storeage_data_019 = pd.read_hdf(created_data_path);"
      ],
      "execution_count": 0,
      "outputs": []
    },
    {
      "metadata": {
        "colab_type": "code",
        "id": "BQF10avgAfN_",
        "outputId": "e74eeca8-68b5-463f-d7a3-577f9c053646",
        "colab": {
          "base_uri": "https://localhost:8080/",
          "height": 69
        }
      },
      "cell_type": "code",
      "source": [
        "import nltk\n",
        "nltk.download('vader_lexicon')"
      ],
      "execution_count": 24,
      "outputs": [
        {
          "output_type": "stream",
          "text": [
            "[nltk_data] Downloading package vader_lexicon to /root/nltk_data...\n",
            "[nltk_data]   Package vader_lexicon is already up-to-date!\n"
          ],
          "name": "stdout"
        },
        {
          "output_type": "execute_result",
          "data": {
            "text/plain": [
              "True"
            ]
          },
          "metadata": {
            "tags": []
          },
          "execution_count": 24
        }
      ]
    },
    {
      "metadata": {
        "colab_type": "code",
        "id": "dxLnNntHAfOH",
        "colab": {}
      },
      "cell_type": "code",
      "source": [
        ""
      ],
      "execution_count": 0,
      "outputs": []
    },
    {
      "metadata": {
        "colab_type": "code",
        "id": "3NVvcc4SAfOL",
        "outputId": "8f95c425-0882-43e1-a70d-6d37aad1e06c",
        "colab": {
          "base_uri": "https://localhost:8080/",
          "height": 202
        }
      },
      "cell_type": "code",
      "source": [
        "storeage_data_019.head()"
      ],
      "execution_count": 25,
      "outputs": [
        {
          "output_type": "execute_result",
          "data": {
            "text/html": [
              "<div>\n",
              "<style scoped>\n",
              "    .dataframe tbody tr th:only-of-type {\n",
              "        vertical-align: middle;\n",
              "    }\n",
              "\n",
              "    .dataframe tbody tr th {\n",
              "        vertical-align: top;\n",
              "    }\n",
              "\n",
              "    .dataframe thead th {\n",
              "        text-align: right;\n",
              "    }\n",
              "</style>\n",
              "<table border=\"1\" class=\"dataframe\">\n",
              "  <thead>\n",
              "    <tr style=\"text-align: right;\">\n",
              "      <th></th>\n",
              "      <th>Open</th>\n",
              "      <th>High</th>\n",
              "      <th>Low</th>\n",
              "      <th>Close</th>\n",
              "      <th>Adj Close</th>\n",
              "      <th>Volume</th>\n",
              "      <th>lrets</th>\n",
              "      <th>MACD</th>\n",
              "      <th>stochastics</th>\n",
              "      <th>ATR</th>\n",
              "      <th>News</th>\n",
              "    </tr>\n",
              "  </thead>\n",
              "  <tbody>\n",
              "    <tr>\n",
              "      <th>1990-01-01</th>\n",
              "      <td>NaN</td>\n",
              "      <td>NaN</td>\n",
              "      <td>NaN</td>\n",
              "      <td>NaN</td>\n",
              "      <td>NaN</td>\n",
              "      <td>NaN</td>\n",
              "      <td>NaN</td>\n",
              "      <td>NaN</td>\n",
              "      <td>NaN</td>\n",
              "      <td>NaN</td>\n",
              "      <td>Warm-Weather Sissies?A Proud Beginning to 1990...</td>\n",
              "    </tr>\n",
              "    <tr>\n",
              "      <th>1990-01-02</th>\n",
              "      <td>NaN</td>\n",
              "      <td>NaN</td>\n",
              "      <td>NaN</td>\n",
              "      <td>NaN</td>\n",
              "      <td>NaN</td>\n",
              "      <td>NaN</td>\n",
              "      <td>NaN</td>\n",
              "      <td>NaN</td>\n",
              "      <td>NaN</td>\n",
              "      <td>NaN</td>\n",
              "      <td>Guest Supply Inc reports earnings for Qtr to S...</td>\n",
              "    </tr>\n",
              "    <tr>\n",
              "      <th>1990-01-03</th>\n",
              "      <td>NaN</td>\n",
              "      <td>NaN</td>\n",
              "      <td>NaN</td>\n",
              "      <td>NaN</td>\n",
              "      <td>NaN</td>\n",
              "      <td>NaN</td>\n",
              "      <td>NaN</td>\n",
              "      <td>NaN</td>\n",
              "      <td>NaN</td>\n",
              "      <td>NaN</td>\n",
              "      <td>For Judaism's Remnant, Coup Is Mixed BlessingP...</td>\n",
              "    </tr>\n",
              "    <tr>\n",
              "      <th>1990-01-04</th>\n",
              "      <td>358.760010</td>\n",
              "      <td>358.760010</td>\n",
              "      <td>352.890015</td>\n",
              "      <td>355.670013</td>\n",
              "      <td>355.670013</td>\n",
              "      <td>177000000.0</td>\n",
              "      <td>-0.008650</td>\n",
              "      <td>0.000000</td>\n",
              "      <td>NaN</td>\n",
              "      <td>5.869995</td>\n",
              "      <td>Group W Sports GainsCooney's Common Denominato...</td>\n",
              "    </tr>\n",
              "    <tr>\n",
              "      <th>1990-01-05</th>\n",
              "      <td>355.670013</td>\n",
              "      <td>355.670013</td>\n",
              "      <td>351.350006</td>\n",
              "      <td>352.200012</td>\n",
              "      <td>352.200012</td>\n",
              "      <td>158530000.0</td>\n",
              "      <td>-0.009804</td>\n",
              "      <td>-0.036878</td>\n",
              "      <td>NaN</td>\n",
              "      <td>4.320007</td>\n",
              "      <td>President Wins Bipartisan Praise For Solution ...</td>\n",
              "    </tr>\n",
              "  </tbody>\n",
              "</table>\n",
              "</div>"
            ],
            "text/plain": [
              "                  Open        High         Low       Close   Adj Close  \\\n",
              "1990-01-01         NaN         NaN         NaN         NaN         NaN   \n",
              "1990-01-02         NaN         NaN         NaN         NaN         NaN   \n",
              "1990-01-03         NaN         NaN         NaN         NaN         NaN   \n",
              "1990-01-04  358.760010  358.760010  352.890015  355.670013  355.670013   \n",
              "1990-01-05  355.670013  355.670013  351.350006  352.200012  352.200012   \n",
              "\n",
              "                 Volume     lrets      MACD  stochastics       ATR  \\\n",
              "1990-01-01          NaN       NaN       NaN          NaN       NaN   \n",
              "1990-01-02          NaN       NaN       NaN          NaN       NaN   \n",
              "1990-01-03          NaN       NaN       NaN          NaN       NaN   \n",
              "1990-01-04  177000000.0 -0.008650  0.000000          NaN  5.869995   \n",
              "1990-01-05  158530000.0 -0.009804 -0.036878          NaN  4.320007   \n",
              "\n",
              "                                                         News  \n",
              "1990-01-01  Warm-Weather Sissies?A Proud Beginning to 1990...  \n",
              "1990-01-02  Guest Supply Inc reports earnings for Qtr to S...  \n",
              "1990-01-03  For Judaism's Remnant, Coup Is Mixed BlessingP...  \n",
              "1990-01-04  Group W Sports GainsCooney's Common Denominato...  \n",
              "1990-01-05  President Wins Bipartisan Praise For Solution ...  "
            ]
          },
          "metadata": {
            "tags": []
          },
          "execution_count": 25
        }
      ]
    },
    {
      "metadata": {
        "colab_type": "code",
        "id": "5AC_3dnJAfOR",
        "outputId": "d7175e6b-8dbc-4fb0-bb27-4d59b774589a",
        "colab": {
          "base_uri": "https://localhost:8080/",
          "height": 340
        }
      },
      "cell_type": "code",
      "source": [
        "storeage_data_019 = storeage_data_019.ix[\"1990-01-02\":]\n",
        "storeage_data_019.head()"
      ],
      "execution_count": 26,
      "outputs": [
        {
          "output_type": "stream",
          "text": [
            "/usr/local/lib/python3.6/dist-packages/ipykernel_launcher.py:1: DeprecationWarning: \n",
            ".ix is deprecated. Please use\n",
            ".loc for label based indexing or\n",
            ".iloc for positional indexing\n",
            "\n",
            "See the documentation here:\n",
            "http://pandas.pydata.org/pandas-docs/stable/indexing.html#ix-indexer-is-deprecated\n",
            "  \"\"\"Entry point for launching an IPython kernel.\n"
          ],
          "name": "stderr"
        },
        {
          "output_type": "execute_result",
          "data": {
            "text/html": [
              "<div>\n",
              "<style scoped>\n",
              "    .dataframe tbody tr th:only-of-type {\n",
              "        vertical-align: middle;\n",
              "    }\n",
              "\n",
              "    .dataframe tbody tr th {\n",
              "        vertical-align: top;\n",
              "    }\n",
              "\n",
              "    .dataframe thead th {\n",
              "        text-align: right;\n",
              "    }\n",
              "</style>\n",
              "<table border=\"1\" class=\"dataframe\">\n",
              "  <thead>\n",
              "    <tr style=\"text-align: right;\">\n",
              "      <th></th>\n",
              "      <th>Open</th>\n",
              "      <th>High</th>\n",
              "      <th>Low</th>\n",
              "      <th>Close</th>\n",
              "      <th>Adj Close</th>\n",
              "      <th>Volume</th>\n",
              "      <th>lrets</th>\n",
              "      <th>MACD</th>\n",
              "      <th>stochastics</th>\n",
              "      <th>ATR</th>\n",
              "      <th>News</th>\n",
              "    </tr>\n",
              "  </thead>\n",
              "  <tbody>\n",
              "    <tr>\n",
              "      <th>1990-01-02</th>\n",
              "      <td>NaN</td>\n",
              "      <td>NaN</td>\n",
              "      <td>NaN</td>\n",
              "      <td>NaN</td>\n",
              "      <td>NaN</td>\n",
              "      <td>NaN</td>\n",
              "      <td>NaN</td>\n",
              "      <td>NaN</td>\n",
              "      <td>NaN</td>\n",
              "      <td>NaN</td>\n",
              "      <td>Guest Supply Inc reports earnings for Qtr to S...</td>\n",
              "    </tr>\n",
              "    <tr>\n",
              "      <th>1990-01-03</th>\n",
              "      <td>NaN</td>\n",
              "      <td>NaN</td>\n",
              "      <td>NaN</td>\n",
              "      <td>NaN</td>\n",
              "      <td>NaN</td>\n",
              "      <td>NaN</td>\n",
              "      <td>NaN</td>\n",
              "      <td>NaN</td>\n",
              "      <td>NaN</td>\n",
              "      <td>NaN</td>\n",
              "      <td>For Judaism's Remnant, Coup Is Mixed BlessingP...</td>\n",
              "    </tr>\n",
              "    <tr>\n",
              "      <th>1990-01-04</th>\n",
              "      <td>358.760010</td>\n",
              "      <td>358.760010</td>\n",
              "      <td>352.890015</td>\n",
              "      <td>355.670013</td>\n",
              "      <td>355.670013</td>\n",
              "      <td>177000000.0</td>\n",
              "      <td>-0.008650</td>\n",
              "      <td>0.000000</td>\n",
              "      <td>NaN</td>\n",
              "      <td>5.869995</td>\n",
              "      <td>Group W Sports GainsCooney's Common Denominato...</td>\n",
              "    </tr>\n",
              "    <tr>\n",
              "      <th>1990-01-05</th>\n",
              "      <td>355.670013</td>\n",
              "      <td>355.670013</td>\n",
              "      <td>351.350006</td>\n",
              "      <td>352.200012</td>\n",
              "      <td>352.200012</td>\n",
              "      <td>158530000.0</td>\n",
              "      <td>-0.009804</td>\n",
              "      <td>-0.036878</td>\n",
              "      <td>NaN</td>\n",
              "      <td>4.320007</td>\n",
              "      <td>President Wins Bipartisan Praise For Solution ...</td>\n",
              "    </tr>\n",
              "    <tr>\n",
              "      <th>1990-01-06</th>\n",
              "      <td>NaN</td>\n",
              "      <td>NaN</td>\n",
              "      <td>NaN</td>\n",
              "      <td>NaN</td>\n",
              "      <td>NaN</td>\n",
              "      <td>NaN</td>\n",
              "      <td>NaN</td>\n",
              "      <td>NaN</td>\n",
              "      <td>NaN</td>\n",
              "      <td>NaN</td>\n",
              "      <td>CorrectionsFrom Jewish Eden to EmbarrassmentAw...</td>\n",
              "    </tr>\n",
              "  </tbody>\n",
              "</table>\n",
              "</div>"
            ],
            "text/plain": [
              "                  Open        High         Low       Close   Adj Close  \\\n",
              "1990-01-02         NaN         NaN         NaN         NaN         NaN   \n",
              "1990-01-03         NaN         NaN         NaN         NaN         NaN   \n",
              "1990-01-04  358.760010  358.760010  352.890015  355.670013  355.670013   \n",
              "1990-01-05  355.670013  355.670013  351.350006  352.200012  352.200012   \n",
              "1990-01-06         NaN         NaN         NaN         NaN         NaN   \n",
              "\n",
              "                 Volume     lrets      MACD  stochastics       ATR  \\\n",
              "1990-01-02          NaN       NaN       NaN          NaN       NaN   \n",
              "1990-01-03          NaN       NaN       NaN          NaN       NaN   \n",
              "1990-01-04  177000000.0 -0.008650  0.000000          NaN  5.869995   \n",
              "1990-01-05  158530000.0 -0.009804 -0.036878          NaN  4.320007   \n",
              "1990-01-06          NaN       NaN       NaN          NaN       NaN   \n",
              "\n",
              "                                                         News  \n",
              "1990-01-02  Guest Supply Inc reports earnings for Qtr to S...  \n",
              "1990-01-03  For Judaism's Remnant, Coup Is Mixed BlessingP...  \n",
              "1990-01-04  Group W Sports GainsCooney's Common Denominato...  \n",
              "1990-01-05  President Wins Bipartisan Praise For Solution ...  \n",
              "1990-01-06  CorrectionsFrom Jewish Eden to EmbarrassmentAw...  "
            ]
          },
          "metadata": {
            "tags": []
          },
          "execution_count": 26
        }
      ]
    },
    {
      "metadata": {
        "colab_type": "code",
        "id": "8mcfD6bSAfOY",
        "outputId": "c8233c6a-988e-4b4d-82f7-9eb27f94fe2e",
        "colab": {
          "base_uri": "https://localhost:8080/",
          "height": 202
        }
      },
      "cell_type": "code",
      "source": [
        "storeage_data_019.dropna(axis=0, inplace=True)\n",
        "storeage_data_019.head()"
      ],
      "execution_count": 27,
      "outputs": [
        {
          "output_type": "execute_result",
          "data": {
            "text/html": [
              "<div>\n",
              "<style scoped>\n",
              "    .dataframe tbody tr th:only-of-type {\n",
              "        vertical-align: middle;\n",
              "    }\n",
              "\n",
              "    .dataframe tbody tr th {\n",
              "        vertical-align: top;\n",
              "    }\n",
              "\n",
              "    .dataframe thead th {\n",
              "        text-align: right;\n",
              "    }\n",
              "</style>\n",
              "<table border=\"1\" class=\"dataframe\">\n",
              "  <thead>\n",
              "    <tr style=\"text-align: right;\">\n",
              "      <th></th>\n",
              "      <th>Open</th>\n",
              "      <th>High</th>\n",
              "      <th>Low</th>\n",
              "      <th>Close</th>\n",
              "      <th>Adj Close</th>\n",
              "      <th>Volume</th>\n",
              "      <th>lrets</th>\n",
              "      <th>MACD</th>\n",
              "      <th>stochastics</th>\n",
              "      <th>ATR</th>\n",
              "      <th>News</th>\n",
              "    </tr>\n",
              "  </thead>\n",
              "  <tbody>\n",
              "    <tr>\n",
              "      <th>1990-01-23</th>\n",
              "      <td>330.380005</td>\n",
              "      <td>332.760010</td>\n",
              "      <td>328.670013</td>\n",
              "      <td>331.609985</td>\n",
              "      <td>331.609985</td>\n",
              "      <td>179300000.0</td>\n",
              "      <td>0.003716</td>\n",
              "      <td>-1.021436</td>\n",
              "      <td>4.863502</td>\n",
              "      <td>4.089997</td>\n",
              "      <td>Counsel Due For Inquiry On DinkinsMadrid Jolte...</td>\n",
              "    </tr>\n",
              "    <tr>\n",
              "      <th>1990-01-24</th>\n",
              "      <td>331.609985</td>\n",
              "      <td>331.709991</td>\n",
              "      <td>324.170013</td>\n",
              "      <td>330.260010</td>\n",
              "      <td>330.260010</td>\n",
              "      <td>207830000.0</td>\n",
              "      <td>-0.004079</td>\n",
              "      <td>-1.103580</td>\n",
              "      <td>0.000000</td>\n",
              "      <td>7.539978</td>\n",
              "      <td>Books of The Times;   A Satire on the Brezhnev...</td>\n",
              "    </tr>\n",
              "    <tr>\n",
              "      <th>1990-01-25</th>\n",
              "      <td>330.260010</td>\n",
              "      <td>332.329987</td>\n",
              "      <td>325.329987</td>\n",
              "      <td>326.079987</td>\n",
              "      <td>326.079987</td>\n",
              "      <td>172270000.0</td>\n",
              "      <td>-0.012738</td>\n",
              "      <td>-1.323376</td>\n",
              "      <td>0.000000</td>\n",
              "      <td>7.000000</td>\n",
              "      <td>Miami Officer Is Sentenced to 7 Years for 2 Ki...</td>\n",
              "    </tr>\n",
              "    <tr>\n",
              "      <th>1990-01-26</th>\n",
              "      <td>326.089996</td>\n",
              "      <td>328.579987</td>\n",
              "      <td>321.440002</td>\n",
              "      <td>325.799988</td>\n",
              "      <td>325.799988</td>\n",
              "      <td>198190000.0</td>\n",
              "      <td>-0.000859</td>\n",
              "      <td>-1.419756</td>\n",
              "      <td>0.000000</td>\n",
              "      <td>7.139985</td>\n",
              "      <td>Threat of Oil Shortage by '93 SeenCarol Wincen...</td>\n",
              "    </tr>\n",
              "    <tr>\n",
              "      <th>1990-01-29</th>\n",
              "      <td>325.799988</td>\n",
              "      <td>327.309998</td>\n",
              "      <td>321.790009</td>\n",
              "      <td>325.200012</td>\n",
              "      <td>325.200012</td>\n",
              "      <td>150770000.0</td>\n",
              "      <td>-0.001843</td>\n",
              "      <td>-1.447355</td>\n",
              "      <td>0.000000</td>\n",
              "      <td>5.519989</td>\n",
              "      <td>1855 Louisiana Law On Abortion Is BarredManila...</td>\n",
              "    </tr>\n",
              "  </tbody>\n",
              "</table>\n",
              "</div>"
            ],
            "text/plain": [
              "                  Open        High         Low       Close   Adj Close  \\\n",
              "1990-01-23  330.380005  332.760010  328.670013  331.609985  331.609985   \n",
              "1990-01-24  331.609985  331.709991  324.170013  330.260010  330.260010   \n",
              "1990-01-25  330.260010  332.329987  325.329987  326.079987  326.079987   \n",
              "1990-01-26  326.089996  328.579987  321.440002  325.799988  325.799988   \n",
              "1990-01-29  325.799988  327.309998  321.790009  325.200012  325.200012   \n",
              "\n",
              "                 Volume     lrets      MACD  stochastics       ATR  \\\n",
              "1990-01-23  179300000.0  0.003716 -1.021436     4.863502  4.089997   \n",
              "1990-01-24  207830000.0 -0.004079 -1.103580     0.000000  7.539978   \n",
              "1990-01-25  172270000.0 -0.012738 -1.323376     0.000000  7.000000   \n",
              "1990-01-26  198190000.0 -0.000859 -1.419756     0.000000  7.139985   \n",
              "1990-01-29  150770000.0 -0.001843 -1.447355     0.000000  5.519989   \n",
              "\n",
              "                                                         News  \n",
              "1990-01-23  Counsel Due For Inquiry On DinkinsMadrid Jolte...  \n",
              "1990-01-24  Books of The Times;   A Satire on the Brezhnev...  \n",
              "1990-01-25  Miami Officer Is Sentenced to 7 Years for 2 Ki...  \n",
              "1990-01-26  Threat of Oil Shortage by '93 SeenCarol Wincen...  \n",
              "1990-01-29  1855 Louisiana Law On Abortion Is BarredManila...  "
            ]
          },
          "metadata": {
            "tags": []
          },
          "execution_count": 27
        }
      ]
    },
    {
      "metadata": {
        "colab_type": "code",
        "id": "Qb3K8L03AfOe",
        "outputId": "84fb23fc-8ce0-488e-ec4a-b7f088533062",
        "colab": {
          "base_uri": "https://localhost:8080/",
          "height": 202
        }
      },
      "cell_type": "code",
      "source": [
        "#storeage_data_019.drop(['close', 'high', 'low', 'open','adj_factor', 'adj_high', 'adj_low', 'adj_open', 'adj_volume', 'ex_dividend', 'split_ratio'], axis=1, inplace=True)\n",
        "\n",
        "\n",
        "storeage_data_019.drop(['Open', 'High', 'Low', 'Close'], axis=1, inplace=True)\n",
        "storeage_data_019.head()"
      ],
      "execution_count": 28,
      "outputs": [
        {
          "output_type": "execute_result",
          "data": {
            "text/html": [
              "<div>\n",
              "<style scoped>\n",
              "    .dataframe tbody tr th:only-of-type {\n",
              "        vertical-align: middle;\n",
              "    }\n",
              "\n",
              "    .dataframe tbody tr th {\n",
              "        vertical-align: top;\n",
              "    }\n",
              "\n",
              "    .dataframe thead th {\n",
              "        text-align: right;\n",
              "    }\n",
              "</style>\n",
              "<table border=\"1\" class=\"dataframe\">\n",
              "  <thead>\n",
              "    <tr style=\"text-align: right;\">\n",
              "      <th></th>\n",
              "      <th>Adj Close</th>\n",
              "      <th>Volume</th>\n",
              "      <th>lrets</th>\n",
              "      <th>MACD</th>\n",
              "      <th>stochastics</th>\n",
              "      <th>ATR</th>\n",
              "      <th>News</th>\n",
              "    </tr>\n",
              "  </thead>\n",
              "  <tbody>\n",
              "    <tr>\n",
              "      <th>1990-01-23</th>\n",
              "      <td>331.609985</td>\n",
              "      <td>179300000.0</td>\n",
              "      <td>0.003716</td>\n",
              "      <td>-1.021436</td>\n",
              "      <td>4.863502</td>\n",
              "      <td>4.089997</td>\n",
              "      <td>Counsel Due For Inquiry On DinkinsMadrid Jolte...</td>\n",
              "    </tr>\n",
              "    <tr>\n",
              "      <th>1990-01-24</th>\n",
              "      <td>330.260010</td>\n",
              "      <td>207830000.0</td>\n",
              "      <td>-0.004079</td>\n",
              "      <td>-1.103580</td>\n",
              "      <td>0.000000</td>\n",
              "      <td>7.539978</td>\n",
              "      <td>Books of The Times;   A Satire on the Brezhnev...</td>\n",
              "    </tr>\n",
              "    <tr>\n",
              "      <th>1990-01-25</th>\n",
              "      <td>326.079987</td>\n",
              "      <td>172270000.0</td>\n",
              "      <td>-0.012738</td>\n",
              "      <td>-1.323376</td>\n",
              "      <td>0.000000</td>\n",
              "      <td>7.000000</td>\n",
              "      <td>Miami Officer Is Sentenced to 7 Years for 2 Ki...</td>\n",
              "    </tr>\n",
              "    <tr>\n",
              "      <th>1990-01-26</th>\n",
              "      <td>325.799988</td>\n",
              "      <td>198190000.0</td>\n",
              "      <td>-0.000859</td>\n",
              "      <td>-1.419756</td>\n",
              "      <td>0.000000</td>\n",
              "      <td>7.139985</td>\n",
              "      <td>Threat of Oil Shortage by '93 SeenCarol Wincen...</td>\n",
              "    </tr>\n",
              "    <tr>\n",
              "      <th>1990-01-29</th>\n",
              "      <td>325.200012</td>\n",
              "      <td>150770000.0</td>\n",
              "      <td>-0.001843</td>\n",
              "      <td>-1.447355</td>\n",
              "      <td>0.000000</td>\n",
              "      <td>5.519989</td>\n",
              "      <td>1855 Louisiana Law On Abortion Is BarredManila...</td>\n",
              "    </tr>\n",
              "  </tbody>\n",
              "</table>\n",
              "</div>"
            ],
            "text/plain": [
              "             Adj Close       Volume     lrets      MACD  stochastics  \\\n",
              "1990-01-23  331.609985  179300000.0  0.003716 -1.021436     4.863502   \n",
              "1990-01-24  330.260010  207830000.0 -0.004079 -1.103580     0.000000   \n",
              "1990-01-25  326.079987  172270000.0 -0.012738 -1.323376     0.000000   \n",
              "1990-01-26  325.799988  198190000.0 -0.000859 -1.419756     0.000000   \n",
              "1990-01-29  325.200012  150770000.0 -0.001843 -1.447355     0.000000   \n",
              "\n",
              "                 ATR                                               News  \n",
              "1990-01-23  4.089997  Counsel Due For Inquiry On DinkinsMadrid Jolte...  \n",
              "1990-01-24  7.539978  Books of The Times;   A Satire on the Brezhnev...  \n",
              "1990-01-25  7.000000  Miami Officer Is Sentenced to 7 Years for 2 Ki...  \n",
              "1990-01-26  7.139985  Threat of Oil Shortage by '93 SeenCarol Wincen...  \n",
              "1990-01-29  5.519989  1855 Louisiana Law On Abortion Is BarredManila...  "
            ]
          },
          "metadata": {
            "tags": []
          },
          "execution_count": 28
        }
      ]
    },
    {
      "metadata": {
        "colab_type": "code",
        "id": "3SiKh2CjAfOl",
        "colab": {}
      },
      "cell_type": "code",
      "source": [
        "def sentimentanalysis(frame_data_099):\n",
        "    sid = SentimentIntensityAnalyzer()\n",
        "    for date in frame_data_099.index:\n",
        "        try:\n",
        "            sentence = unicodedata.normalize('NFKD', frame_data_099.loc[date, 'News'])\n",
        "            ss = sid.polarity_scores(sentence)\n",
        "            neg_val = ss['neg']\n",
        "            neu_val = ss['neu']\n",
        "            pos_val = ss['pos']\n",
        "            frame_data_099.at[date, 'neg'] = neg_val\n",
        "            frame_data_099.at[date, 'neu'] = neu_val\n",
        "            frame_data_099.at[date, 'pos'] = pos_val\n",
        "            \n",
        "        except TypeError:\n",
        "            print (frame_data_099.loc[date, 'News'])\n",
        "            print (storeage_data_019)\n",
        "    return frame_data_099"
      ],
      "execution_count": 0,
      "outputs": []
    },
    {
      "metadata": {
        "colab_type": "code",
        "id": "sXe6lZGZAfOp",
        "colab": {}
      },
      "cell_type": "code",
      "source": [
        "datastore_new_plucker = sentimentanalysis(storeage_data_019)"
      ],
      "execution_count": 0,
      "outputs": []
    },
    {
      "metadata": {
        "colab_type": "code",
        "id": "nNHvF3qpAfOt",
        "colab": {}
      },
      "cell_type": "code",
      "source": [
        "datastore_new_plucker.drop(['News'], axis=1, inplace=True)"
      ],
      "execution_count": 0,
      "outputs": []
    },
    {
      "metadata": {
        "colab_type": "code",
        "id": "J-ByXoocAfOw",
        "colab": {}
      },
      "cell_type": "code",
      "source": [
        "datastore_new_plucker.to_hdf(created_data_path_new, 'new_data')"
      ],
      "execution_count": 0,
      "outputs": []
    },
    {
      "metadata": {
        "colab_type": "code",
        "id": "NsIHkFgSAfO5",
        "outputId": "264c870f-9d1a-4b32-c3b8-e349887e2598",
        "colab": {
          "base_uri": "https://localhost:8080/",
          "height": 190
        }
      },
      "cell_type": "code",
      "source": [
        "datastore_new_plucker.isnull().any()"
      ],
      "execution_count": 33,
      "outputs": [
        {
          "output_type": "execute_result",
          "data": {
            "text/plain": [
              "Adj Close      False\n",
              "Volume         False\n",
              "lrets          False\n",
              "MACD           False\n",
              "stochastics    False\n",
              "ATR            False\n",
              "neg            False\n",
              "neu            False\n",
              "pos            False\n",
              "dtype: bool"
            ]
          },
          "metadata": {
            "tags": []
          },
          "execution_count": 33
        }
      ]
    },
    {
      "metadata": {
        "colab_type": "code",
        "id": "JeK_py_DGL1u",
        "colab": {}
      },
      "cell_type": "code",
      "source": [
        ""
      ],
      "execution_count": 0,
      "outputs": []
    }
  ]
}