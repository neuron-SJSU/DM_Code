{
 "cells": [
  {
   "cell_type": "code",
   "execution_count": 0,
   "metadata": {
    "colab": {
     "base_uri": "https://localhost:8080/",
     "height": 34
    },
    "colab_type": "code",
    "id": "8a8zCezU_D7N",
    "outputId": "f66997cd-3ab0-4abd-b297-94d089220554"
   },
   "outputs": [
    {
     "name": "stdout",
     "output_type": "stream",
     "text": [
      "Drive already mounted at /content/drive/; to attempt to forcibly remount, call drive.mount(\"/content/drive/\", force_remount=True).\n"
     ]
    }
   ],
   "source": [
    "from google.colab import drive\n",
    "drive.mount('/content/drive/')"
   ]
  },
  {
   "cell_type": "code",
   "execution_count": 0,
   "metadata": {
    "colab": {},
    "colab_type": "code",
    "id": "eCjKjfUd_aAN"
   },
   "outputs": [],
   "source": [
    "drive_data_path_news = '/content/drive/My Drive/stocks_project/data/news/'"
   ]
  },
  {
   "cell_type": "code",
   "execution_count": 0,
   "metadata": {
    "colab": {},
    "colab_type": "code",
    "id": "rs64hCpk_aZv"
   },
   "outputs": [],
   "source": [
    "import pandas as pd\n",
    "import numpy as np\n",
    "import requests\n",
    "import json"
   ]
  },
  {
   "cell_type": "code",
   "execution_count": 0,
   "metadata": {
    "colab": {},
    "colab_type": "code",
    "id": "DgCzwAyp_D7S"
   },
   "outputs": [],
   "source": [
    "api = \"af40190ac3274d36aee4a7e801e865c7\""
   ]
  },
  {
   "cell_type": "code",
   "execution_count": 0,
   "metadata": {
    "colab": {},
    "colab_type": "code",
    "id": "JhDBMrjZ_D7W"
   },
   "outputs": [],
   "source": [
    "def download_json(year, month, api):\n",
    "    url = \"http://api.nytimes.com/svc/archive/v1/{}/{}.json?api-key={}\"\n",
    "    url = url.format(year, month, api)\n",
    "    \n",
    "    string_filenamer = drive_data_path_news + str(year) + '-' + '{:02}'.format(month) + '.json'\n",
    "    items = requests.get(url)\n",
    "    \n",
    "    try:\n",
    "        data = items.json()\n",
    "\n",
    "        with open(string_filenamer, 'w') as f:\n",
    "            json.dump(data, f)\n",
    "    except:\n",
    "        pass\n",
    "    \n",
    "    return \"Finished downloading {}/{}\".format(year, month)"
   ]
  },
  {
   "cell_type": "code",
   "execution_count": 0,
   "metadata": {
    "colab": {
     "base_uri": "https://localhost:8080/",
     "height": 34
    },
    "colab_type": "code",
    "id": "v5gExtpE_D7Z",
    "outputId": "6a857cd6-5bf6-494f-dfed-310ffbda0848"
   },
   "outputs": [
    {
     "data": {
      "text/plain": [
       "'Finished downloading 2018/2'"
      ]
     },
     "execution_count": 34,
     "metadata": {
      "tags": []
     },
     "output_type": "execute_result"
    }
   ],
   "source": [
    "download_json(2018, 2, api)"
   ]
  },
  {
   "cell_type": "code",
   "execution_count": 0,
   "metadata": {
    "colab": {},
    "colab_type": "code",
    "id": "98q25vtY_D7f"
   },
   "outputs": [],
   "source": [
    "#for i in range(1990, 2019):\n",
    "#    for j in range(1, 13):\n",
    "#        download_json(i, j, api)"
   ]
  },
  {
   "cell_type": "code",
   "execution_count": 0,
   "metadata": {
    "colab": {},
    "colab_type": "code",
    "id": "wEf6A24y_D7i"
   },
   "outputs": [],
   "source": [
    "def json_file_opne_data(year, month):\n",
    "    \n",
    "    string_filenamer = drive_data_path_news + str(year) + '-' + '{:02}'.format(month) + '.json'\n",
    "    \n",
    "    with open(string_filenamer) as data_file:    \n",
    "        news_agaency_datasource = json.load(data_file)\n",
    "    \n",
    "    date_list = []\n",
    "    framer_data_solution = pd.DataFrame()  \n",
    "    framer_data_solution['News'] = None\n",
    "    \n",
    "\n",
    "    for i in range(len(news_agaency_datasource[\"response\"][\"docs\"][:])):\n",
    "        if news_agaency_datasource[\"response\"][\"docs\"][i][\"pub_date\"][:10] not in framer_data_solution.index:\n",
    "            framer_data_solution.ix[news_agaency_datasource[\"response\"][\"docs\"][i][\"pub_date\"][:10]] = news_agaency_datasource[\"response\"][\"docs\"][:][i]['headline']['main']\n",
    "        else:\n",
    "            framer_data_solution.ix[news_agaency_datasource[\"response\"][\"docs\"][i][\"pub_date\"][:10]] = framer_data_solution.ix[news_agaency_datasource[\"response\"][\"docs\"][i][\"pub_date\"][:10]].values + news_agaency_datasource[\"response\"][\"docs\"][:][i]['headline']['main']\n",
    "    \n",
    "    framer_data_solution.index = pd.to_datetime(framer_data_solution.index, format='%Y-%m-%d')\n",
    "    framer_data_solution.sort_index(inplace=True)\n",
    "    \n",
    "    return framer_data_solution"
   ]
  },
  {
   "cell_type": "code",
   "execution_count": 0,
   "metadata": {
    "colab": {
     "base_uri": "https://localhost:8080/",
     "height": 1036
    },
    "colab_type": "code",
    "id": "jc-8CKm6_D7l",
    "outputId": "41c2bfdc-f1d8-4857-8dc8-cc8c6054284b"
   },
   "outputs": [
    {
     "name": "stderr",
     "output_type": "stream",
     "text": [
      "/usr/local/lib/python3.6/dist-packages/ipykernel_launcher.py:17: DeprecationWarning: \n",
      ".ix is deprecated. Please use\n",
      ".loc for label based indexing or\n",
      ".iloc for positional indexing\n",
      "\n",
      "See the documentation here:\n",
      "http://pandas.pydata.org/pandas-docs/stable/indexing.html#ix-indexer-is-deprecated\n"
     ]
    },
    {
     "data": {
      "text/html": [
       "<div>\n",
       "<style scoped>\n",
       "    .dataframe tbody tr th:only-of-type {\n",
       "        vertical-align: middle;\n",
       "    }\n",
       "\n",
       "    .dataframe tbody tr th {\n",
       "        vertical-align: top;\n",
       "    }\n",
       "\n",
       "    .dataframe thead th {\n",
       "        text-align: right;\n",
       "    }\n",
       "</style>\n",
       "<table border=\"1\" class=\"dataframe\">\n",
       "  <thead>\n",
       "    <tr style=\"text-align: right;\">\n",
       "      <th></th>\n",
       "      <th>News</th>\n",
       "    </tr>\n",
       "  </thead>\n",
       "  <tbody>\n",
       "    <tr>\n",
       "      <th>2018-02-01</th>\n",
       "      <td>Andre Surmain, Who Fed the Elite in Luxe Style...</td>\n",
       "    </tr>\n",
       "    <tr>\n",
       "      <th>2018-02-02</th>\n",
       "      <td>Carter Page, Ex-Trump Aide Once Shunned by Rig...</td>\n",
       "    </tr>\n",
       "    <tr>\n",
       "      <th>2018-02-03</th>\n",
       "      <td>Why Iranian Women Are Taking Off Their Head Sc...</td>\n",
       "    </tr>\n",
       "    <tr>\n",
       "      <th>2018-02-04</th>\n",
       "      <td>How Congress Can Protect MuellerDC Comics Join...</td>\n",
       "    </tr>\n",
       "    <tr>\n",
       "      <th>2018-02-05</th>\n",
       "      <td>China, Elbows Out, Charges AheadItaly’s Populi...</td>\n",
       "    </tr>\n",
       "    <tr>\n",
       "      <th>2018-02-06</th>\n",
       "      <td>A Marriage Upended, a Life Destroyed‘I Know Th...</td>\n",
       "    </tr>\n",
       "    <tr>\n",
       "      <th>2018-02-07</th>\n",
       "      <td>Landlord : Fall 2018More Than 300 Child Soldie...</td>\n",
       "    </tr>\n",
       "    <tr>\n",
       "      <th>2018-02-08</th>\n",
       "      <td>Ethiopia to Free 746 PrisonersMichel Foucault’...</td>\n",
       "    </tr>\n",
       "    <tr>\n",
       "      <th>2018-02-09</th>\n",
       "      <td>How Sasha Cohen, Former Olympic Figure Skater,...</td>\n",
       "    </tr>\n",
       "    <tr>\n",
       "      <th>2018-02-10</th>\n",
       "      <td>Yu Darvish and Cubs Said to Agree to $126 Mill...</td>\n",
       "    </tr>\n",
       "    <tr>\n",
       "      <th>2018-02-11</th>\n",
       "      <td>Israel’s Clash With Iran and Syria: 5 Takeaway...</td>\n",
       "    </tr>\n",
       "    <tr>\n",
       "      <th>2018-02-12</th>\n",
       "      <td>Three Milwaukee Jail Officers Charged in Dehyd...</td>\n",
       "    </tr>\n",
       "    <tr>\n",
       "      <th>2018-02-13</th>\n",
       "      <td>New York Fashion Week: The Day in PicturesCork...</td>\n",
       "    </tr>\n",
       "    <tr>\n",
       "      <th>2018-02-14</th>\n",
       "      <td>Concussions Can Be Detected With New Blood Tes...</td>\n",
       "    </tr>\n",
       "    <tr>\n",
       "      <th>2018-02-15</th>\n",
       "      <td>Right and Left React to the Gun Control Debate...</td>\n",
       "    </tr>\n",
       "    <tr>\n",
       "      <th>2018-02-16</th>\n",
       "      <td>Lerone Bennett Jr., Historian of Black America...</td>\n",
       "    </tr>\n",
       "    <tr>\n",
       "      <th>2018-02-17</th>\n",
       "      <td>4 Israelis Hurt by Bomb Set in Flag at Gaza Fe...</td>\n",
       "    </tr>\n",
       "    <tr>\n",
       "      <th>2018-02-18</th>\n",
       "      <td>Did George Washington Predict Donald Trump?Wha...</td>\n",
       "    </tr>\n",
       "    <tr>\n",
       "      <th>2018-02-19</th>\n",
       "      <td>M.L.B. Puts a Limit on Mound Visits Per GameLi...</td>\n",
       "    </tr>\n",
       "    <tr>\n",
       "      <th>2018-02-20</th>\n",
       "      <td>Rangers Trade Nick Holden to BruinsGet Out of ...</td>\n",
       "    </tr>\n",
       "    <tr>\n",
       "      <th>2018-02-21</th>\n",
       "      <td>Trump Tries to Kill Obamacare by a Thousand Cu...</td>\n",
       "    </tr>\n",
       "    <tr>\n",
       "      <th>2018-02-22</th>\n",
       "      <td>Jury Finds U.S.T.A. Liable in Lawsuit Brought ...</td>\n",
       "    </tr>\n",
       "    <tr>\n",
       "      <th>2018-02-23</th>\n",
       "      <td>Trump’s Chance to Do Right by Transgender Troo...</td>\n",
       "    </tr>\n",
       "    <tr>\n",
       "      <th>2018-02-24</th>\n",
       "      <td>Quotation of the Day: After a School Shooting,...</td>\n",
       "    </tr>\n",
       "    <tr>\n",
       "      <th>2018-02-25</th>\n",
       "      <td>Well-Heeled Investors Reap the Republican Tax ...</td>\n",
       "    </tr>\n",
       "    <tr>\n",
       "      <th>2018-02-26</th>\n",
       "      <td>A Generation Emerging From the WreckageCan the...</td>\n",
       "    </tr>\n",
       "    <tr>\n",
       "      <th>2018-02-27</th>\n",
       "      <td>New Yorkers Deserve Action on Ambitious Transi...</td>\n",
       "    </tr>\n",
       "    <tr>\n",
       "      <th>2018-02-28</th>\n",
       "      <td>Poking and Prodding DemocracyPercoco Was Cuomo...</td>\n",
       "    </tr>\n",
       "  </tbody>\n",
       "</table>\n",
       "</div>"
      ],
      "text/plain": [
       "                                                         News\n",
       "2018-02-01  Andre Surmain, Who Fed the Elite in Luxe Style...\n",
       "2018-02-02  Carter Page, Ex-Trump Aide Once Shunned by Rig...\n",
       "2018-02-03  Why Iranian Women Are Taking Off Their Head Sc...\n",
       "2018-02-04  How Congress Can Protect MuellerDC Comics Join...\n",
       "2018-02-05  China, Elbows Out, Charges AheadItaly’s Populi...\n",
       "2018-02-06  A Marriage Upended, a Life Destroyed‘I Know Th...\n",
       "2018-02-07  Landlord : Fall 2018More Than 300 Child Soldie...\n",
       "2018-02-08  Ethiopia to Free 746 PrisonersMichel Foucault’...\n",
       "2018-02-09  How Sasha Cohen, Former Olympic Figure Skater,...\n",
       "2018-02-10  Yu Darvish and Cubs Said to Agree to $126 Mill...\n",
       "2018-02-11  Israel’s Clash With Iran and Syria: 5 Takeaway...\n",
       "2018-02-12  Three Milwaukee Jail Officers Charged in Dehyd...\n",
       "2018-02-13  New York Fashion Week: The Day in PicturesCork...\n",
       "2018-02-14  Concussions Can Be Detected With New Blood Tes...\n",
       "2018-02-15  Right and Left React to the Gun Control Debate...\n",
       "2018-02-16  Lerone Bennett Jr., Historian of Black America...\n",
       "2018-02-17  4 Israelis Hurt by Bomb Set in Flag at Gaza Fe...\n",
       "2018-02-18  Did George Washington Predict Donald Trump?Wha...\n",
       "2018-02-19  M.L.B. Puts a Limit on Mound Visits Per GameLi...\n",
       "2018-02-20  Rangers Trade Nick Holden to BruinsGet Out of ...\n",
       "2018-02-21  Trump Tries to Kill Obamacare by a Thousand Cu...\n",
       "2018-02-22  Jury Finds U.S.T.A. Liable in Lawsuit Brought ...\n",
       "2018-02-23  Trump’s Chance to Do Right by Transgender Troo...\n",
       "2018-02-24  Quotation of the Day: After a School Shooting,...\n",
       "2018-02-25  Well-Heeled Investors Reap the Republican Tax ...\n",
       "2018-02-26  A Generation Emerging From the WreckageCan the...\n",
       "2018-02-27  New Yorkers Deserve Action on Ambitious Transi...\n",
       "2018-02-28  Poking and Prodding DemocracyPercoco Was Cuomo..."
      ]
     },
     "execution_count": 37,
     "metadata": {
      "tags": []
     },
     "output_type": "execute_result"
    }
   ],
   "source": [
    "framer_data_solution = json_file_opne_data(2018, 2)\n",
    "framer_data_solution"
   ]
  },
  {
   "cell_type": "code",
   "execution_count": 0,
   "metadata": {
    "colab": {},
    "colab_type": "code",
    "id": "Hc0wPODIBw2Z"
   },
   "outputs": [],
   "source": []
  }
 ],
 "metadata": {
  "colab": {
   "name": "neuron_01_NY_Times_downloader.ipynb",
   "provenance": [],
   "version": "0.3.2"
  },
  "kernelspec": {
   "display_name": "Python 3",
   "language": "python",
   "name": "python3"
  },
  "language_info": {
   "codemirror_mode": {
    "name": "ipython",
    "version": 3
   },
   "file_extension": ".py",
   "mimetype": "text/x-python",
   "name": "python",
   "nbconvert_exporter": "python",
   "pygments_lexer": "ipython3",
   "version": "3.6.5"
  }
 },
 "nbformat": 4,
 "nbformat_minor": 1
}
